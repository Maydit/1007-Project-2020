{
 "cells": [
  {
   "cell_type": "code",
   "execution_count": 1,
   "metadata": {},
   "outputs": [],
   "source": [
    "from datetime import datetime\n",
    "from dateutil import parser\n",
    "import calendar\n",
    "\n",
    "import numpy as np\n",
    "import pandas as pd\n",
    "import matplotlib.pyplot as plt\n",
    "import matplotlib.ticker as plticker\n",
    "\n",
    "import itertools\n",
    "import math\n",
    "\n",
    "import re\n",
    "import nltk\n",
    "import os\n",
    "from collections import Counter"
   ]
  },
  {
   "cell_type": "code",
   "execution_count": 2,
   "metadata": {},
   "outputs": [
    {
     "name": "stderr",
     "output_type": "stream",
     "text": [
      "[nltk_data] Downloading package stopwords to\n",
      "[nltk_data]     C:\\Users\\preston\\AppData\\Roaming\\nltk_data...\n",
      "[nltk_data]   Package stopwords is already up-to-date!\n"
     ]
    },
    {
     "data": {
      "text/plain": [
       "True"
      ]
     },
     "execution_count": 2,
     "metadata": {},
     "output_type": "execute_result"
    }
   ],
   "source": [
    "## Get list of stopwords from NLTK package\n",
    "nltk.download('stopwords')"
   ]
  },
  {
   "cell_type": "markdown",
   "metadata": {},
   "source": [
    "# Functions"
   ]
  },
  {
   "cell_type": "markdown",
   "metadata": {},
   "source": [
    "### Cleaning and variable creation"
   ]
  },
  {
   "cell_type": "code",
   "execution_count": 3,
   "metadata": {},
   "outputs": [],
   "source": [
    "def clean_tweets(df, startdate = 20200811, no_stops = True):\n",
    "\n",
    "    ## Define dataframe and filter by date\n",
    "    df = df[['id', 'date', 'tweet']]\n",
    "    df = df[df.index > parser.parse(str(startdate))]\n",
    "    \n",
    "    ## Clean tweets\n",
    "    clean_text = []\n",
    "\n",
    "    for tweet in df.tweet:\n",
    "        # Remove URLS\n",
    "        tweet = re.sub(\"(\\w+:\\/\\/\\S+)\", \" \", tweet)\n",
    "        # Replace non-characters with spaces\n",
    "        tweet = re.sub(\"\\W\", \" \", tweet)\n",
    "        # Remove digits\n",
    "        tweet = re.sub(\"[0-9]\", \"\", tweet)\n",
    "        # Remove extra spaces\n",
    "        tweet = re.sub(\"\\s+\", \" \", tweet)\n",
    "        tweet = re.sub(\"^\\s+\", \"\", tweet)\n",
    "        tweet = re.sub(\"\\s+$\", \"\", tweet)\n",
    "            \n",
    "        clean_text.append(tweet.lower())\n",
    "\n",
    "    ## Add updated text to main data\n",
    "    df['clean_text'] = clean_text\n",
    "    df['term_list'] = df['clean_text'].apply(lambda x: x.split())\n",
    "    \n",
    "    ## Remove stop words from tweets\n",
    "    if no_stops == True:\n",
    "        stop_words = set(nltk.corpus.stopwords.words('english'))\n",
    "        \n",
    "        for term_list in df['term_list']:\n",
    "            for term in term_list:\n",
    "                if term in stop_words:\n",
    "                    term_list.remove(term)\n",
    "    \n",
    "    return df"
   ]
  },
  {
   "cell_type": "code",
   "execution_count": 4,
   "metadata": {},
   "outputs": [],
   "source": [
    "def computeTF(x):\n",
    "    \n",
    "    wordFreq = x[1]\n",
    "    wordList = x[0]\n",
    "    bagOfWordsCount = len(wordList)\n",
    "    \n",
    "    tfDict = {}\n",
    "    for word, count in wordFreq.items():\n",
    "        tfDict[word] = count / float(bagOfWordsCount)\n",
    "        \n",
    "    return Counter(tfDict)"
   ]
  },
  {
   "cell_type": "code",
   "execution_count": 5,
   "metadata": {},
   "outputs": [],
   "source": [
    "def term_counter(txt_list):\n",
    "    \n",
    "    term_counts = {}\n",
    "    for i in set(txt_list):\n",
    "        term_counts[i] = txt_list.count(i)\n",
    "        \n",
    "    return(Counter(term_counts))"
   ]
  },
  {
   "cell_type": "code",
   "execution_count": 6,
   "metadata": {},
   "outputs": [],
   "source": [
    "def return_term_count_list(df, term_count_column = \"term_count\"):\n",
    "   \n",
    "    term_count_list = []\n",
    "    for i in df[term_count_column]:\n",
    "        term_count_list.append(dict(i))\n",
    "        \n",
    "    return(term_count_list)"
   ]
  },
  {
   "cell_type": "code",
   "execution_count": 7,
   "metadata": {},
   "outputs": [],
   "source": [
    "def return_corpus_set(df, term_list_column = \"term_list\"):\n",
    "    \n",
    "    tweet_corpus = []\n",
    "    for i in df[term_list_column]:\n",
    "        tweet_corpus += i\n",
    "\n",
    "    return(set(tweet_corpus))"
   ]
  },
  {
   "cell_type": "code",
   "execution_count": 8,
   "metadata": {},
   "outputs": [],
   "source": [
    "def computeIDF(documents, corpus_set):\n",
    "    N = len(documents)\n",
    "\n",
    "    idfDict = dict.fromkeys(corpus_set, 0)\n",
    "    for document in documents:\n",
    "        for word, val in document.items():\n",
    "            if val > 0:\n",
    "                idfDict[word] += 1\n",
    "\n",
    "    for word, val in idfDict.items():\n",
    "        idfDict[word] = math.log(N / (float(val)))\n",
    "        \n",
    "    return(Counter(idfDict))"
   ]
  },
  {
   "cell_type": "code",
   "execution_count": 9,
   "metadata": {},
   "outputs": [],
   "source": [
    "def computeTFIDF(TF,idfs):\n",
    "    \n",
    "    tfidf = {}\n",
    "    for word, val in TF.items():\n",
    "        tfidf[word] = val * idfs[word]\n",
    "        \n",
    "    return(Counter(tfidf))"
   ]
  },
  {
   "cell_type": "code",
   "execution_count": 10,
   "metadata": {},
   "outputs": [],
   "source": [
    "def TFIDF_processing(df):\n",
    "    \n",
    "    df = clean_tweets(df)\n",
    "\n",
    "    # Create dictionary of term counts for each tweet\n",
    "    df['term_count'] = df['term_list'].apply(lambda x: term_counter(x))\n",
    "    \n",
    "    # Calculate term frequency (TF)\n",
    "    df['TF'] = df[['term_list', 'term_count']].apply(computeTF, axis = 1)\n",
    "    \n",
    "    # Return corpus and doc list\n",
    "    term_count_list_df = return_term_count_list(df)\n",
    "    corpus_set_df = return_corpus_set(df)\n",
    "    \n",
    "    # Calculate IDF and  TF-IDF\n",
    "    df_idf = computeIDF(term_count_list_df, corpus_set_df)\n",
    "    df['TFIDF'] = df['TF'].apply(lambda x: computeTFIDF(x, df_idf))\n",
    "    \n",
    "    return(df, df_idf, corpus_set_df)"
   ]
  },
  {
   "cell_type": "markdown",
   "metadata": {},
   "source": [
    "### TFIDF organization"
   ]
  },
  {
   "cell_type": "code",
   "execution_count": 11,
   "metadata": {},
   "outputs": [],
   "source": [
    "def sum_normalize_collections(counter_list):\n",
    "    \n",
    "    counter_sum = Counter()\n",
    "    for counter in counter_list:\n",
    "        counter_sum += counter\n",
    "        \n",
    "    for k,v in counter_sum.items():\n",
    "        counter_sum[k] = v/len(counter_list)\n",
    "        \n",
    "    return(counter_sum.most_common())"
   ]
  },
  {
   "cell_type": "code",
   "execution_count": 12,
   "metadata": {},
   "outputs": [],
   "source": [
    "def TFIDF_vecorization(df,corpus):\n",
    "    \n",
    "    D = np.zeros((len(df), len(corpus)))\n",
    "\n",
    "    for i,tfidf in enumerate(df[\"TFIDF\"]):\n",
    "        for term in tfidf:\n",
    "            ind = (list(corpus)).index(term)\n",
    "            D[i][ind] = tfidf[term]\n",
    "            \n",
    "    return(D)"
   ]
  },
  {
   "cell_type": "code",
   "execution_count": 13,
   "metadata": {},
   "outputs": [],
   "source": [
    "def get_day_tfidf(df, date):\n",
    "    day = pd.DataFrame(df.loc[date][0])\n",
    "    idx = pd.DatetimeIndex([date] * len(day))\n",
    "    \n",
    "    day.index = idx\n",
    "    day.columns = ['words', 'TFIDF']\n",
    "    \n",
    "    return(day)"
   ]
  },
  {
   "cell_type": "code",
   "execution_count": 14,
   "metadata": {},
   "outputs": [],
   "source": [
    "def movingaverage (values, window):\n",
    "    weights = np.repeat(1.0, window) / window\n",
    "    \n",
    "    sma = np.convolve(values, weights, 'valid')\n",
    "    \n",
    "    return sma"
   ]
  },
  {
   "cell_type": "markdown",
   "metadata": {},
   "source": [
    "---"
   ]
  },
  {
   "cell_type": "markdown",
   "metadata": {},
   "source": [
    "# Data"
   ]
  },
  {
   "cell_type": "markdown",
   "metadata": {},
   "source": [
    "## Twitter Data"
   ]
  },
  {
   "cell_type": "code",
   "execution_count": 15,
   "metadata": {},
   "outputs": [
    {
     "data": {
      "text/html": [
       "<div>\n",
       "<style scoped>\n",
       "    .dataframe tbody tr th:only-of-type {\n",
       "        vertical-align: middle;\n",
       "    }\n",
       "\n",
       "    .dataframe tbody tr th {\n",
       "        vertical-align: top;\n",
       "    }\n",
       "\n",
       "    .dataframe thead th {\n",
       "        text-align: right;\n",
       "    }\n",
       "</style>\n",
       "<table border=\"1\" class=\"dataframe\">\n",
       "  <thead>\n",
       "    <tr style=\"text-align: right;\">\n",
       "      <th></th>\n",
       "      <th>Unnamed: 0</th>\n",
       "      <th>id</th>\n",
       "      <th>conversation_id</th>\n",
       "      <th>created_at</th>\n",
       "      <th>timezone</th>\n",
       "      <th>place</th>\n",
       "      <th>tweet</th>\n",
       "      <th>language</th>\n",
       "      <th>hashtags</th>\n",
       "      <th>cashtags</th>\n",
       "      <th>...</th>\n",
       "      <th>user_rt_id</th>\n",
       "      <th>user_rt</th>\n",
       "      <th>retweet_id</th>\n",
       "      <th>reply_to</th>\n",
       "      <th>retweet_date</th>\n",
       "      <th>translate</th>\n",
       "      <th>trans_src</th>\n",
       "      <th>trans_dest</th>\n",
       "      <th>date</th>\n",
       "      <th>month</th>\n",
       "    </tr>\n",
       "    <tr>\n",
       "      <th>datetime</th>\n",
       "      <th></th>\n",
       "      <th></th>\n",
       "      <th></th>\n",
       "      <th></th>\n",
       "      <th></th>\n",
       "      <th></th>\n",
       "      <th></th>\n",
       "      <th></th>\n",
       "      <th></th>\n",
       "      <th></th>\n",
       "      <th></th>\n",
       "      <th></th>\n",
       "      <th></th>\n",
       "      <th></th>\n",
       "      <th></th>\n",
       "      <th></th>\n",
       "      <th></th>\n",
       "      <th></th>\n",
       "      <th></th>\n",
       "      <th></th>\n",
       "      <th></th>\n",
       "    </tr>\n",
       "  </thead>\n",
       "  <tbody>\n",
       "    <tr>\n",
       "      <th>2020-11-09 14:40:00</th>\n",
       "      <td>0</td>\n",
       "      <td>1325885871875190784</td>\n",
       "      <td>1325885871875190784</td>\n",
       "      <td>1.604951e+12</td>\n",
       "      <td>-500</td>\n",
       "      <td>NaN</td>\n",
       "      <td>The bottom line: I will spare no effort to tur...</td>\n",
       "      <td>en</td>\n",
       "      <td>[]</td>\n",
       "      <td>[]</td>\n",
       "      <td>...</td>\n",
       "      <td>NaN</td>\n",
       "      <td>NaN</td>\n",
       "      <td>NaN</td>\n",
       "      <td>[]</td>\n",
       "      <td>NaN</td>\n",
       "      <td>NaN</td>\n",
       "      <td>NaN</td>\n",
       "      <td>NaN</td>\n",
       "      <td>2020-11-09</td>\n",
       "      <td>11</td>\n",
       "    </tr>\n",
       "    <tr>\n",
       "      <th>2020-11-09 14:17:00</th>\n",
       "      <td>1</td>\n",
       "      <td>1325880083618426881</td>\n",
       "      <td>1325880083618426881</td>\n",
       "      <td>1.604949e+12</td>\n",
       "      <td>-500</td>\n",
       "      <td>NaN</td>\n",
       "      <td>The challenge before us right now is still imm...</td>\n",
       "      <td>en</td>\n",
       "      <td>[]</td>\n",
       "      <td>[]</td>\n",
       "      <td>...</td>\n",
       "      <td>NaN</td>\n",
       "      <td>NaN</td>\n",
       "      <td>NaN</td>\n",
       "      <td>[]</td>\n",
       "      <td>NaN</td>\n",
       "      <td>NaN</td>\n",
       "      <td>NaN</td>\n",
       "      <td>NaN</td>\n",
       "      <td>2020-11-09</td>\n",
       "      <td>11</td>\n",
       "    </tr>\n",
       "    <tr>\n",
       "      <th>2020-11-09 13:50:00</th>\n",
       "      <td>2</td>\n",
       "      <td>1325873288711712769</td>\n",
       "      <td>1325873288711712769</td>\n",
       "      <td>1.604948e+12</td>\n",
       "      <td>-500</td>\n",
       "      <td>NaN</td>\n",
       "      <td>My COVID-19 Transition Advisory Board will adv...</td>\n",
       "      <td>en</td>\n",
       "      <td>[]</td>\n",
       "      <td>[]</td>\n",
       "      <td>...</td>\n",
       "      <td>NaN</td>\n",
       "      <td>NaN</td>\n",
       "      <td>NaN</td>\n",
       "      <td>[]</td>\n",
       "      <td>NaN</td>\n",
       "      <td>NaN</td>\n",
       "      <td>NaN</td>\n",
       "      <td>NaN</td>\n",
       "      <td>2020-11-09</td>\n",
       "      <td>11</td>\n",
       "    </tr>\n",
       "    <tr>\n",
       "      <th>2020-11-09 13:37:00</th>\n",
       "      <td>3</td>\n",
       "      <td>1325870017401905152</td>\n",
       "      <td>1325870017401905152</td>\n",
       "      <td>1.604947e+12</td>\n",
       "      <td>-500</td>\n",
       "      <td>NaN</td>\n",
       "      <td>Today, I have named a COVID-19 Transition Advi...</td>\n",
       "      <td>en</td>\n",
       "      <td>[]</td>\n",
       "      <td>[]</td>\n",
       "      <td>...</td>\n",
       "      <td>NaN</td>\n",
       "      <td>NaN</td>\n",
       "      <td>NaN</td>\n",
       "      <td>[]</td>\n",
       "      <td>NaN</td>\n",
       "      <td>NaN</td>\n",
       "      <td>NaN</td>\n",
       "      <td>NaN</td>\n",
       "      <td>2020-11-09</td>\n",
       "      <td>11</td>\n",
       "    </tr>\n",
       "    <tr>\n",
       "      <th>2020-11-09 11:46:50</th>\n",
       "      <td>4</td>\n",
       "      <td>1325842292444291072</td>\n",
       "      <td>1325842292444291072</td>\n",
       "      <td>1.604940e+12</td>\n",
       "      <td>-500</td>\n",
       "      <td>NaN</td>\n",
       "      <td>I spent the morning with the co-chairs of my C...</td>\n",
       "      <td>en</td>\n",
       "      <td>[]</td>\n",
       "      <td>[]</td>\n",
       "      <td>...</td>\n",
       "      <td>NaN</td>\n",
       "      <td>NaN</td>\n",
       "      <td>NaN</td>\n",
       "      <td>[]</td>\n",
       "      <td>NaN</td>\n",
       "      <td>NaN</td>\n",
       "      <td>NaN</td>\n",
       "      <td>NaN</td>\n",
       "      <td>2020-11-09</td>\n",
       "      <td>11</td>\n",
       "    </tr>\n",
       "  </tbody>\n",
       "</table>\n",
       "<p>5 rows × 40 columns</p>\n",
       "</div>"
      ],
      "text/plain": [
       "                     Unnamed: 0                   id      conversation_id  \\\n",
       "datetime                                                                    \n",
       "2020-11-09 14:40:00           0  1325885871875190784  1325885871875190784   \n",
       "2020-11-09 14:17:00           1  1325880083618426881  1325880083618426881   \n",
       "2020-11-09 13:50:00           2  1325873288711712769  1325873288711712769   \n",
       "2020-11-09 13:37:00           3  1325870017401905152  1325870017401905152   \n",
       "2020-11-09 11:46:50           4  1325842292444291072  1325842292444291072   \n",
       "\n",
       "                       created_at  timezone  place  \\\n",
       "datetime                                             \n",
       "2020-11-09 14:40:00  1.604951e+12      -500    NaN   \n",
       "2020-11-09 14:17:00  1.604949e+12      -500    NaN   \n",
       "2020-11-09 13:50:00  1.604948e+12      -500    NaN   \n",
       "2020-11-09 13:37:00  1.604947e+12      -500    NaN   \n",
       "2020-11-09 11:46:50  1.604940e+12      -500    NaN   \n",
       "\n",
       "                                                                 tweet  \\\n",
       "datetime                                                                 \n",
       "2020-11-09 14:40:00  The bottom line: I will spare no effort to tur...   \n",
       "2020-11-09 14:17:00  The challenge before us right now is still imm...   \n",
       "2020-11-09 13:50:00  My COVID-19 Transition Advisory Board will adv...   \n",
       "2020-11-09 13:37:00  Today, I have named a COVID-19 Transition Advi...   \n",
       "2020-11-09 11:46:50  I spent the morning with the co-chairs of my C...   \n",
       "\n",
       "                    language hashtags cashtags  ...  user_rt_id  user_rt  \\\n",
       "datetime                                        ...                        \n",
       "2020-11-09 14:40:00       en       []       []  ...         NaN      NaN   \n",
       "2020-11-09 14:17:00       en       []       []  ...         NaN      NaN   \n",
       "2020-11-09 13:50:00       en       []       []  ...         NaN      NaN   \n",
       "2020-11-09 13:37:00       en       []       []  ...         NaN      NaN   \n",
       "2020-11-09 11:46:50       en       []       []  ...         NaN      NaN   \n",
       "\n",
       "                    retweet_id reply_to  retweet_date  translate trans_src  \\\n",
       "datetime                                                                     \n",
       "2020-11-09 14:40:00        NaN       []           NaN        NaN       NaN   \n",
       "2020-11-09 14:17:00        NaN       []           NaN        NaN       NaN   \n",
       "2020-11-09 13:50:00        NaN       []           NaN        NaN       NaN   \n",
       "2020-11-09 13:37:00        NaN       []           NaN        NaN       NaN   \n",
       "2020-11-09 11:46:50        NaN       []           NaN        NaN       NaN   \n",
       "\n",
       "                    trans_dest        date  month  \n",
       "datetime                                           \n",
       "2020-11-09 14:40:00        NaN  2020-11-09     11  \n",
       "2020-11-09 14:17:00        NaN  2020-11-09     11  \n",
       "2020-11-09 13:50:00        NaN  2020-11-09     11  \n",
       "2020-11-09 13:37:00        NaN  2020-11-09     11  \n",
       "2020-11-09 11:46:50        NaN  2020-11-09     11  \n",
       "\n",
       "[5 rows x 40 columns]"
      ]
     },
     "execution_count": 15,
     "metadata": {},
     "output_type": "execute_result"
    }
   ],
   "source": [
    "## Import Biden data\n",
    "biden_df = pd.read_csv('../data/biden.csv', index_col = 'date', parse_dates = True)\n",
    "biden_df.index.rename(\"datetime\", inplace = True)\n",
    "\n",
    "## Date variables\n",
    "biden_df['date'] = biden_df.index.date\n",
    "biden_df['month'] = biden_df.index.month\n",
    "\n",
    "biden_df.head()"
   ]
  },
  {
   "cell_type": "code",
   "execution_count": 16,
   "metadata": {},
   "outputs": [
    {
     "data": {
      "text/html": [
       "<div>\n",
       "<style scoped>\n",
       "    .dataframe tbody tr th:only-of-type {\n",
       "        vertical-align: middle;\n",
       "    }\n",
       "\n",
       "    .dataframe tbody tr th {\n",
       "        vertical-align: top;\n",
       "    }\n",
       "\n",
       "    .dataframe thead th {\n",
       "        text-align: right;\n",
       "    }\n",
       "</style>\n",
       "<table border=\"1\" class=\"dataframe\">\n",
       "  <thead>\n",
       "    <tr style=\"text-align: right;\">\n",
       "      <th></th>\n",
       "      <th>id</th>\n",
       "      <th>tweet</th>\n",
       "      <th>isRetweet</th>\n",
       "      <th>isDeleted</th>\n",
       "      <th>device</th>\n",
       "      <th>favorites</th>\n",
       "      <th>retweets</th>\n",
       "      <th>date</th>\n",
       "      <th>month</th>\n",
       "    </tr>\n",
       "    <tr>\n",
       "      <th>datetime</th>\n",
       "      <th></th>\n",
       "      <th></th>\n",
       "      <th></th>\n",
       "      <th></th>\n",
       "      <th></th>\n",
       "      <th></th>\n",
       "      <th></th>\n",
       "      <th></th>\n",
       "      <th></th>\n",
       "    </tr>\n",
       "  </thead>\n",
       "  <tbody>\n",
       "    <tr>\n",
       "      <th>2011-08-02 18:07:48</th>\n",
       "      <td>98454970654916608</td>\n",
       "      <td>Republicans and Democrats have both created ou...</td>\n",
       "      <td>f</td>\n",
       "      <td>f</td>\n",
       "      <td>TweetDeck</td>\n",
       "      <td>49</td>\n",
       "      <td>255</td>\n",
       "      <td>2011-08-02</td>\n",
       "      <td>8</td>\n",
       "    </tr>\n",
       "    <tr>\n",
       "      <th>2020-03-03 01:34:50</th>\n",
       "      <td>1234653427789070336</td>\n",
       "      <td>I was thrilled to be back in the Great city of...</td>\n",
       "      <td>f</td>\n",
       "      <td>f</td>\n",
       "      <td>Twitter for iPhone</td>\n",
       "      <td>73748</td>\n",
       "      <td>17404</td>\n",
       "      <td>2020-03-03</td>\n",
       "      <td>3</td>\n",
       "    </tr>\n",
       "    <tr>\n",
       "      <th>2020-01-17 03:22:47</th>\n",
       "      <td>1218010753434820614</td>\n",
       "      <td>RT @CBS_Herridge: READ: Letter to surveillance...</td>\n",
       "      <td>t</td>\n",
       "      <td>f</td>\n",
       "      <td>Twitter for iPhone</td>\n",
       "      <td>0</td>\n",
       "      <td>7396</td>\n",
       "      <td>2020-01-17</td>\n",
       "      <td>1</td>\n",
       "    </tr>\n",
       "    <tr>\n",
       "      <th>2020-09-12 20:10:58</th>\n",
       "      <td>1304875170860015617</td>\n",
       "      <td>The Unsolicited Mail In Ballot Scam is a major...</td>\n",
       "      <td>f</td>\n",
       "      <td>f</td>\n",
       "      <td>Twitter for iPhone</td>\n",
       "      <td>80527</td>\n",
       "      <td>23502</td>\n",
       "      <td>2020-09-12</td>\n",
       "      <td>9</td>\n",
       "    </tr>\n",
       "    <tr>\n",
       "      <th>2020-01-17 13:13:59</th>\n",
       "      <td>1218159531554897920</td>\n",
       "      <td>RT @MZHemingway: Very friendly telling of even...</td>\n",
       "      <td>t</td>\n",
       "      <td>f</td>\n",
       "      <td>Twitter for iPhone</td>\n",
       "      <td>0</td>\n",
       "      <td>9081</td>\n",
       "      <td>2020-01-17</td>\n",
       "      <td>1</td>\n",
       "    </tr>\n",
       "  </tbody>\n",
       "</table>\n",
       "</div>"
      ],
      "text/plain": [
       "                                      id  \\\n",
       "datetime                                   \n",
       "2011-08-02 18:07:48    98454970654916608   \n",
       "2020-03-03 01:34:50  1234653427789070336   \n",
       "2020-01-17 03:22:47  1218010753434820614   \n",
       "2020-09-12 20:10:58  1304875170860015617   \n",
       "2020-01-17 13:13:59  1218159531554897920   \n",
       "\n",
       "                                                                 tweet  \\\n",
       "datetime                                                                 \n",
       "2011-08-02 18:07:48  Republicans and Democrats have both created ou...   \n",
       "2020-03-03 01:34:50  I was thrilled to be back in the Great city of...   \n",
       "2020-01-17 03:22:47  RT @CBS_Herridge: READ: Letter to surveillance...   \n",
       "2020-09-12 20:10:58  The Unsolicited Mail In Ballot Scam is a major...   \n",
       "2020-01-17 13:13:59  RT @MZHemingway: Very friendly telling of even...   \n",
       "\n",
       "                    isRetweet isDeleted              device  favorites  \\\n",
       "datetime                                                                 \n",
       "2011-08-02 18:07:48         f         f           TweetDeck         49   \n",
       "2020-03-03 01:34:50         f         f  Twitter for iPhone      73748   \n",
       "2020-01-17 03:22:47         t         f  Twitter for iPhone          0   \n",
       "2020-09-12 20:10:58         f         f  Twitter for iPhone      80527   \n",
       "2020-01-17 13:13:59         t         f  Twitter for iPhone          0   \n",
       "\n",
       "                     retweets        date  month  \n",
       "datetime                                          \n",
       "2011-08-02 18:07:48       255  2011-08-02      8  \n",
       "2020-03-03 01:34:50     17404  2020-03-03      3  \n",
       "2020-01-17 03:22:47      7396  2020-01-17      1  \n",
       "2020-09-12 20:10:58     23502  2020-09-12      9  \n",
       "2020-01-17 13:13:59      9081  2020-01-17      1  "
      ]
     },
     "execution_count": 16,
     "metadata": {},
     "output_type": "execute_result"
    }
   ],
   "source": [
    "## Import Biden data\n",
    "trump_df = pd.read_csv('../data/trump.csv', index_col = 'date', parse_dates = True)\n",
    "trump_df.index.rename(\"datetime\", inplace = True)\n",
    "\n",
    "## Date variables\n",
    "trump_df['date'] = trump_df.index.date\n",
    "trump_df['month'] = trump_df.index.month\n",
    "\n",
    "## Match variable names to Biden\n",
    "trump_df.rename(columns = {'text' : 'tweet'}, inplace = True)\n",
    "\n",
    "trump_df.head()"
   ]
  },
  {
   "cell_type": "markdown",
   "metadata": {},
   "source": [
    "### Process Twitter data"
   ]
  },
  {
   "cell_type": "code",
   "execution_count": 17,
   "metadata": {},
   "outputs": [
    {
     "data": {
      "text/html": [
       "<div>\n",
       "<style scoped>\n",
       "    .dataframe tbody tr th:only-of-type {\n",
       "        vertical-align: middle;\n",
       "    }\n",
       "\n",
       "    .dataframe tbody tr th {\n",
       "        vertical-align: top;\n",
       "    }\n",
       "\n",
       "    .dataframe thead th {\n",
       "        text-align: right;\n",
       "    }\n",
       "</style>\n",
       "<table border=\"1\" class=\"dataframe\">\n",
       "  <thead>\n",
       "    <tr style=\"text-align: right;\">\n",
       "      <th></th>\n",
       "      <th>id</th>\n",
       "      <th>date</th>\n",
       "      <th>tweet</th>\n",
       "      <th>clean_text</th>\n",
       "      <th>term_list</th>\n",
       "      <th>term_count</th>\n",
       "      <th>TF</th>\n",
       "      <th>TFIDF</th>\n",
       "    </tr>\n",
       "    <tr>\n",
       "      <th>datetime</th>\n",
       "      <th></th>\n",
       "      <th></th>\n",
       "      <th></th>\n",
       "      <th></th>\n",
       "      <th></th>\n",
       "      <th></th>\n",
       "      <th></th>\n",
       "      <th></th>\n",
       "    </tr>\n",
       "  </thead>\n",
       "  <tbody>\n",
       "    <tr>\n",
       "      <th>2020-11-09 14:40:00</th>\n",
       "      <td>1325885871875190784</td>\n",
       "      <td>2020-11-09</td>\n",
       "      <td>The bottom line: I will spare no effort to tur...</td>\n",
       "      <td>the bottom line i will spare no effort to turn...</td>\n",
       "      <td>[bottom, line, will, spare, effort, turn, pand...</td>\n",
       "      <td>{'turn': 1, 'effort': 1, 'around': 1, 'bottom'...</td>\n",
       "      <td>{'turn': 0.125, 'effort': 0.125, 'around': 0.1...</td>\n",
       "      <td>{'turn': 0.6492187733637008, 'effort': 0.71917...</td>\n",
       "    </tr>\n",
       "    <tr>\n",
       "      <th>2020-11-09 14:17:00</th>\n",
       "      <td>1325880083618426881</td>\n",
       "      <td>2020-11-09</td>\n",
       "      <td>The challenge before us right now is still imm...</td>\n",
       "      <td>the challenge before us right now is still imm...</td>\n",
       "      <td>[challenge, us, right, still, immense, growing...</td>\n",
       "      <td>{'so': 1, 'us': 1, 'need': 1, 'bold': 1, 'imme...</td>\n",
       "      <td>{'so': 0.07142857142857142, 'us': 0.0714285714...</td>\n",
       "      <td>{'so': 0.33869750451189634, 'us': 0.1645270306...</td>\n",
       "    </tr>\n",
       "    <tr>\n",
       "      <th>2020-11-09 13:50:00</th>\n",
       "      <td>1325873288711712769</td>\n",
       "      <td>2020-11-09</td>\n",
       "      <td>My COVID-19 Transition Advisory Board will adv...</td>\n",
       "      <td>my covid transition advisory board will advise...</td>\n",
       "      <td>[covid, transition, advisory, board, advise, d...</td>\n",
       "      <td>{'bedrock': 1, 'compassion': 1, 'american': 1,...</td>\n",
       "      <td>{'bedrock': 0.05, 'compassion': 0.05, 'america...</td>\n",
       "      <td>{'bedrock': 0.356983016798246, 'compassion': 0...</td>\n",
       "    </tr>\n",
       "    <tr>\n",
       "      <th>2020-11-09 13:37:00</th>\n",
       "      <td>1325870017401905152</td>\n",
       "      <td>2020-11-09</td>\n",
       "      <td>Today, I have named a COVID-19 Transition Advi...</td>\n",
       "      <td>today i have named a covid transition advisory...</td>\n",
       "      <td>[today, have, named, covid, transition, adviso...</td>\n",
       "      <td>{'biden': 1, 'comprised': 1, 'have': 1, 'i': 1...</td>\n",
       "      <td>{'biden': 0.03333333333333333, 'comprised': 0....</td>\n",
       "      <td>{'biden': 0.1204433270449586, 'comprised': 0.2...</td>\n",
       "    </tr>\n",
       "    <tr>\n",
       "      <th>2020-11-09 11:46:50</th>\n",
       "      <td>1325842292444291072</td>\n",
       "      <td>2020-11-09</td>\n",
       "      <td>I spent the morning with the co-chairs of my C...</td>\n",
       "      <td>i spent the morning with the co chairs of my c...</td>\n",
       "      <td>[spent, morning, co, chairs, my, covid, counci...</td>\n",
       "      <td>{'co': 1, 'going': 1, 'the': 1, 'move': 1, 're...</td>\n",
       "      <td>{'co': 0.041666666666666664, 'going': 0.041666...</td>\n",
       "      <td>{'co': 0.23042593431378414, 'going': 0.1320570...</td>\n",
       "    </tr>\n",
       "  </tbody>\n",
       "</table>\n",
       "</div>"
      ],
      "text/plain": [
       "                                      id        date  \\\n",
       "datetime                                               \n",
       "2020-11-09 14:40:00  1325885871875190784  2020-11-09   \n",
       "2020-11-09 14:17:00  1325880083618426881  2020-11-09   \n",
       "2020-11-09 13:50:00  1325873288711712769  2020-11-09   \n",
       "2020-11-09 13:37:00  1325870017401905152  2020-11-09   \n",
       "2020-11-09 11:46:50  1325842292444291072  2020-11-09   \n",
       "\n",
       "                                                                 tweet  \\\n",
       "datetime                                                                 \n",
       "2020-11-09 14:40:00  The bottom line: I will spare no effort to tur...   \n",
       "2020-11-09 14:17:00  The challenge before us right now is still imm...   \n",
       "2020-11-09 13:50:00  My COVID-19 Transition Advisory Board will adv...   \n",
       "2020-11-09 13:37:00  Today, I have named a COVID-19 Transition Advi...   \n",
       "2020-11-09 11:46:50  I spent the morning with the co-chairs of my C...   \n",
       "\n",
       "                                                            clean_text  \\\n",
       "datetime                                                                 \n",
       "2020-11-09 14:40:00  the bottom line i will spare no effort to turn...   \n",
       "2020-11-09 14:17:00  the challenge before us right now is still imm...   \n",
       "2020-11-09 13:50:00  my covid transition advisory board will advise...   \n",
       "2020-11-09 13:37:00  today i have named a covid transition advisory...   \n",
       "2020-11-09 11:46:50  i spent the morning with the co chairs of my c...   \n",
       "\n",
       "                                                             term_list  \\\n",
       "datetime                                                                 \n",
       "2020-11-09 14:40:00  [bottom, line, will, spare, effort, turn, pand...   \n",
       "2020-11-09 14:17:00  [challenge, us, right, still, immense, growing...   \n",
       "2020-11-09 13:50:00  [covid, transition, advisory, board, advise, d...   \n",
       "2020-11-09 13:37:00  [today, have, named, covid, transition, adviso...   \n",
       "2020-11-09 11:46:50  [spent, morning, co, chairs, my, covid, counci...   \n",
       "\n",
       "                                                            term_count  \\\n",
       "datetime                                                                 \n",
       "2020-11-09 14:40:00  {'turn': 1, 'effort': 1, 'around': 1, 'bottom'...   \n",
       "2020-11-09 14:17:00  {'so': 1, 'us': 1, 'need': 1, 'bold': 1, 'imme...   \n",
       "2020-11-09 13:50:00  {'bedrock': 1, 'compassion': 1, 'american': 1,...   \n",
       "2020-11-09 13:37:00  {'biden': 1, 'comprised': 1, 'have': 1, 'i': 1...   \n",
       "2020-11-09 11:46:50  {'co': 1, 'going': 1, 'the': 1, 'move': 1, 're...   \n",
       "\n",
       "                                                                    TF  \\\n",
       "datetime                                                                 \n",
       "2020-11-09 14:40:00  {'turn': 0.125, 'effort': 0.125, 'around': 0.1...   \n",
       "2020-11-09 14:17:00  {'so': 0.07142857142857142, 'us': 0.0714285714...   \n",
       "2020-11-09 13:50:00  {'bedrock': 0.05, 'compassion': 0.05, 'america...   \n",
       "2020-11-09 13:37:00  {'biden': 0.03333333333333333, 'comprised': 0....   \n",
       "2020-11-09 11:46:50  {'co': 0.041666666666666664, 'going': 0.041666...   \n",
       "\n",
       "                                                                 TFIDF  \n",
       "datetime                                                                \n",
       "2020-11-09 14:40:00  {'turn': 0.6492187733637008, 'effort': 0.71917...  \n",
       "2020-11-09 14:17:00  {'so': 0.33869750451189634, 'us': 0.1645270306...  \n",
       "2020-11-09 13:50:00  {'bedrock': 0.356983016798246, 'compassion': 0...  \n",
       "2020-11-09 13:37:00  {'biden': 0.1204433270449586, 'comprised': 0.2...  \n",
       "2020-11-09 11:46:50  {'co': 0.23042593431378414, 'going': 0.1320570...  "
      ]
     },
     "execution_count": 17,
     "metadata": {},
     "output_type": "execute_result"
    }
   ],
   "source": [
    "## Calculate TFIDFs for Biden\n",
    "biden_df, biden_idf,biden_corpus = TFIDF_processing(biden_df)\n",
    "biden_df.head()"
   ]
  },
  {
   "cell_type": "code",
   "execution_count": null,
   "metadata": {},
   "outputs": [],
   "source": [
    "## Calculate TFIDF scores by date for Biden\n",
    "biden_by_date = biden_df.groupby(\"date\")[\"TFIDF\"].apply(lambda x:x.to_list())\n",
    "\n",
    "score_df_biden = pd.DataFrame(biden_df.groupby(\"date\")[\"TFIDF\"].apply(lambda x: sum_normalize_collections(x.to_list())))\n",
    "score_df_biden.index = pd.DatetimeIndex(score_df_biden.index)\n",
    "\n",
    "score_df_biden.head()"
   ]
  },
  {
   "cell_type": "code",
   "execution_count": null,
   "metadata": {},
   "outputs": [],
   "source": [
    "## Calculate TFIDFs for Trump\n",
    "trump_df, trump_idf, trump_corpus = TFIDF_processing(trump_df)\n",
    "trump_df.head()"
   ]
  },
  {
   "cell_type": "code",
   "execution_count": null,
   "metadata": {},
   "outputs": [],
   "source": [
    "## Calculate TFIDF scores by date for Trump\n",
    "trump_by_date = trump_df.groupby(\"date\")[\"TFIDF\"].apply(lambda x:x.to_list())\n",
    "\n",
    "score_df_trump = pd.DataFrame(trump_df.groupby(\"date\")[\"TFIDF\"].apply(lambda x: sum_normalize_collections(x.to_list())))\n",
    "score_df_trump.index = pd.DatetimeIndex(score_df_trump.index)\n",
    "\n",
    "score_df_trump.head()"
   ]
  },
  {
   "cell_type": "markdown",
   "metadata": {},
   "source": [
    "score_df_joe.to_csv('../../data/biden_tweet_scores.csv')\n",
    "score_df_donald.to_csv('../../data/trump_tweet_scores.csv')"
   ]
  },
  {
   "cell_type": "markdown",
   "metadata": {},
   "source": [
    "## Polling Data"
   ]
  },
  {
   "cell_type": "markdown",
   "metadata": {},
   "source": [
    "### Pull polling data"
   ]
  },
  {
   "cell_type": "code",
   "execution_count": null,
   "metadata": {},
   "outputs": [],
   "source": [
    "# Read in data, select relevant cols\n",
    "cols = ['poll_id', 'fte_grade', 'sample_size', 'start_date', 'answer', 'pct']\n",
    "ge = pd.read_csv('../data/president_polls.csv', usecols = cols, index_col = 'start_date', parse_dates = True)"
   ]
  },
  {
   "cell_type": "markdown",
   "metadata": {},
   "source": [
    "### Clean polling data"
   ]
  },
  {
   "cell_type": "code",
   "execution_count": null,
   "metadata": {},
   "outputs": [],
   "source": [
    "# Only use good polls (according to 538)\n",
    "ge = ge[ge['fte_grade'].isin(['A+', 'A', 'A-', 'A/B', 'B+', 'B'])]\n",
    "ge.drop('fte_grade', axis = 1, inplace = True)"
   ]
  },
  {
   "cell_type": "code",
   "execution_count": null,
   "metadata": {},
   "outputs": [],
   "source": [
    "# Check to see the latest date with primary candidates still.\n",
    "lastdate = ge[ge['answer'] == 'Sanders'].index.values[0]"
   ]
  },
  {
   "cell_type": "code",
   "execution_count": null,
   "metadata": {},
   "outputs": [],
   "source": [
    "# Drop all primary dates, only need Biden and Trump\n",
    "ge = ge[ge.index > lastdate]\n",
    "ge = ge[ge.answer.isin(['Biden', 'Trump'])]"
   ]
  },
  {
   "cell_type": "code",
   "execution_count": null,
   "metadata": {},
   "outputs": [],
   "source": [
    "# Use a pivot table to get Biden and Trump pct in the same row\n",
    "runoff = ge.pivot_table('pct', ['start_date', 'poll_id', 'sample_size'], 'answer').reset_index().set_index('start_date')\n",
    "runoff"
   ]
  },
  {
   "cell_type": "code",
   "execution_count": null,
   "metadata": {},
   "outputs": [],
   "source": [
    "# Weight percentages by sample sizes\n",
    "runoff['total_biden'] = runoff['Biden'] * runoff['sample_size']\n",
    "runoff['total_trump'] = runoff['Trump'] * runoff['sample_size']\n",
    "\n",
    "election_cleaned = runoff.groupby('start_date')[['sample_size', 'total_biden', 'total_trump']].sum().sort_index()\n",
    "election_cleaned['w_biden'] = election_cleaned['total_biden'] / election_cleaned['sample_size']\n",
    "election_cleaned['w_trump'] = election_cleaned['total_trump'] / election_cleaned['sample_size']\n",
    "election_cleaned.head()"
   ]
  },
  {
   "cell_type": "markdown",
   "metadata": {},
   "source": [
    "---"
   ]
  },
  {
   "cell_type": "markdown",
   "metadata": {},
   "source": [
    "# Figures"
   ]
  },
  {
   "cell_type": "code",
   "execution_count": null,
   "metadata": {},
   "outputs": [],
   "source": [
    "## Find month names for labelling\n",
    "months = election_cleaned.index.month\n",
    "\n",
    "month_names = [calendar.month_name[m] for m in set(months)]\n",
    "month_names"
   ]
  },
  {
   "cell_type": "code",
   "execution_count": null,
   "metadata": {},
   "outputs": [],
   "source": [
    "np.arange(len(election_cleaned), step = len(election_cleaned)/len(month_names))"
   ]
  },
  {
   "cell_type": "code",
   "execution_count": null,
   "metadata": {},
   "outputs": [],
   "source": [
    "plt.style.use('fivethirtyeight')\n",
    "\n",
    "fig, ax = plt.subplots(figsize=(15,10))\n",
    "ax.set_xticklabels(month_names)\n",
    "\n",
    "plt.plot(election_cleaned.index, election_cleaned['w_biden'], label = 'Biden')\n",
    "plt.plot(election_cleaned.index, election_cleaned['w_trump'], label = 'Trump')\n",
    "plt.plot(election_cleaned.index, [50 for i in election_cleaned.index], '--' ,color = 'black')\n",
    "\n",
    "plt.xlabel('Month (2020)')\n",
    "plt.ylabel('Approval Percentage')\n",
    "plt.title('2020 Presidential Candidate Approval Percentages')\n",
    "plt.legend()\n",
    "\n",
    "plt.savefig('../output/overall_approval.png', bbox_inches = 'tight')\n",
    "plt.show()"
   ]
  },
  {
   "cell_type": "markdown",
   "metadata": {},
   "source": [
    "## October analysis"
   ]
  },
  {
   "cell_type": "code",
   "execution_count": null,
   "metadata": {},
   "outputs": [],
   "source": [
    "#month analysis from October1-November1\n",
    "oct_nov = election_cleaned[election_cleaned.index >= '2020-10-01']"
   ]
  },
  {
   "cell_type": "code",
   "execution_count": null,
   "metadata": {},
   "outputs": [],
   "source": [
    "fig, ax = plt.subplots(figsize = (15,10))\n",
    "\n",
    "plt.plot(oct_nov.index, oct_nov['w_biden'], label = 'Biden')\n",
    "plt.plot(oct_nov.index, oct_nov['w_trump'], label = 'Trump')\n",
    "plt.plot(oct_nov.index, [50]*len(oct_nov), '--', color = 'black')\n",
    "\n",
    "plt.xticks(rotation = 90)\n",
    "plt.xlabel('Date')\n",
    "plt.ylabel('Approval Percentage')\n",
    "plt.title('October 2020 Presidential Candidate Approval')\n",
    "plt.legend()\n",
    "\n",
    "plt.savefig('../output/oct_approval.png', bbox_inches = 'tight')\n",
    "plt.show()"
   ]
  },
  {
   "cell_type": "markdown",
   "metadata": {},
   "source": [
    "## Twitter Figures"
   ]
  },
  {
   "cell_type": "markdown",
   "metadata": {},
   "source": [
    "### TFIDF scores for August 11"
   ]
  },
  {
   "cell_type": "code",
   "execution_count": null,
   "metadata": {},
   "outputs": [],
   "source": [
    "day1_biden = get_day_tfidf(score_df_biden, '2020-08-11')\n",
    "\n",
    "day1_biden.head()"
   ]
  },
  {
   "cell_type": "code",
   "execution_count": null,
   "metadata": {},
   "outputs": [],
   "source": [
    "fig, ax = plt.subplots(figsize = (15,10))\n",
    "\n",
    "plt.bar(day1_biden.words, day1_biden.TFIDF, label = str(\"2020-08-11\") + ' words')\n",
    "plt.bar(day1_biden.words[0:15], day1_biden.TFIDF[0:15], color = 'green', label = str(\"2020-08-11\") + ' top 15 words')\n",
    "\n",
    "plt.margins(.02)\n",
    "plt.xticks(rotation = 90)\n",
    "ax.tick_params(axis = 'both', which = 'minor', labelsize = 8)\n",
    "plt.xlabel('Words')\n",
    "plt.ylabel('TFIDF Score')\n",
    "plt.legend()\n",
    "\n",
    "plt.savefig('../output/words_20200811.png', bbox_inches = 'tight')\n",
    "plt.show()"
   ]
  },
  {
   "cell_type": "markdown",
   "metadata": {},
   "source": [
    "### Keywords by polling results"
   ]
  },
  {
   "cell_type": "code",
   "execution_count": null,
   "metadata": {},
   "outputs": [],
   "source": [
    "## Election results August and later\n",
    "elec_post_aug = election_cleaned[election_cleaned.index >= '2020-08-11']"
   ]
  },
  {
   "cell_type": "code",
   "execution_count": null,
   "metadata": {
    "scrolled": false
   },
   "outputs": [],
   "source": [
    "fig, ax = plt.subplots(figsize = (15, 10))\n",
    "\n",
    "plt.plot(elec_post_aug.index, elec_post_aug['w_biden'], label = 'Biden')\n",
    "plt.plot(elec_post_aug.index, elec_post_aug['w_trump'], label = 'Trump')\n",
    "plt.plot(elec_post_aug.index, [50]*len(elec_post_aug), '--', color = 'black')\n",
    "\n",
    "plt.xticks(rotation = 90)\n",
    "plt.xlabel('Date')\n",
    "plt.ylabel('Approval Percentage')\n",
    "plt.title('2020 Presidential Candidate Approval')\n",
    "plt.legend()\n",
    "\n",
    "\n",
    "## Add word labels to plot\n",
    "for i in range(len(elec_post_aug)):\n",
    "    \n",
    "    largedelta = False\n",
    "    \n",
    "    if i > 0:\n",
    "        largedelta = (np.abs(elec_post_aug['w_biden'][i] - elec_post_aug['w_biden'][i-1]) > 5)\n",
    "        \n",
    "    if largedelta:\n",
    "        day = get_day_tfidf(score_df_biden, score_df_biden.index[i])\n",
    "        label = day.sort_values(\"TFIDF\", ascending = False).iloc[0][\"words\"]\n",
    "\n",
    "        ax.annotate(label, (elec_post_aug.index[i], elec_post_aug['w_biden'][i] + 1), color='blue')\n",
    "\n",
    "for k in range(len(elec_post_aug)):\n",
    "    \n",
    "    ## Shift to account for different start dates\n",
    "    i = k + 0\n",
    "\n",
    "    largedelta = False\n",
    "    \n",
    "    if i > 0:\n",
    "        largedelta = (np.abs(elec_post_aug['w_trump'][i] - elec_post_aug['w_trump'][i-1]) > 5)\n",
    "        \n",
    "    if largedelta:\n",
    "        day = get_day_tfidf(score_df_trump, score_df_trump.index[i])\n",
    "        label = day.sort_values(\"TFIDF\", ascending = False).iloc[0][\"words\"]\n",
    "\n",
    "        ax.annotate(label, (elec_post_aug.index[k], elec_post_aug['w_trump'][k] - 1), color = 'darkred')\n",
    "        \n",
    "plt.savefig('../output/approval_words.png', bbox_inches = 'tight')\n",
    "plt.show()"
   ]
  },
  {
   "cell_type": "markdown",
   "metadata": {},
   "source": [
    "### Keywords by polling results (rolling averages)"
   ]
  },
  {
   "cell_type": "code",
   "execution_count": null,
   "metadata": {},
   "outputs": [],
   "source": [
    "## Calculate rolling averages for polling results\n",
    "window = 7\n",
    "\n",
    "running_avg_biden = movingaverage(elec_post_aug['w_biden'], window)\n",
    "running_avg_trump = movingaverage(elec_post_aug['w_trump'], window)"
   ]
  },
  {
   "cell_type": "code",
   "execution_count": null,
   "metadata": {},
   "outputs": [],
   "source": [
    "## Manually select notable dates (days since start of August)\n",
    "noteable_date_biden = [3, 7, 9, 12, 17, 19, 20, 22, 26, 32, 37, 39, 41, 46, 49, 50, 55, 57, 60, 62, 67]\n",
    "noteable_date_trump = [3, 7, 9, 11, 13, 16, 20, 22, 27, 28, 31, 34, 38, 39, 44, 48, 50, 52, 55, 58, 61, 65, 67]"
   ]
  },
  {
   "cell_type": "code",
   "execution_count": null,
   "metadata": {},
   "outputs": [],
   "source": [
    "fig, ax = plt.subplots(figsize = (15,10))\n",
    "\n",
    "## Remove ends of data to account for moving average\n",
    "plt.plot(elec_post_aug.index[window//2:-((window-1)//2)], running_avg_biden, label='Biden')\n",
    "plt.plot(elec_post_aug.index[window//2:-((window-1)//2)], running_avg_trump, label='Trump')\n",
    "plt.plot(elec_post_aug.index[window//2:-((window-1)//2)], [50 for i in elec_post_aug.index[window//2:-((window-1)//2)]], color='black')\n",
    "\n",
    "location = plticker.MultipleLocator(base=2.0)\n",
    "ax.xaxis.set_major_locator(location)\n",
    "\n",
    "plt.xticks(rotation = 90)\n",
    "plt.xlabel('Date')\n",
    "plt.ylabel('Approval Percentage Rolling Average')\n",
    "plt.title('2020 Presidential Candidate Approval')\n",
    "plt.legend()\n",
    "\n",
    "for i in range(len(elec_post_aug)):\n",
    "    if i in noteable_date_biden:\n",
    "        day = get_day_tfidf(score_df_biden, score_df_biden.index[i])\n",
    "        label = day.sort_values(\"TFIDF\", ascending = False).iloc[0][\"words\"]\n",
    "        \n",
    "        #label = get_day_dataframe(l_b[i], df_b.date[i]).sort_values(by='nums_'+df_b.date[i],ascending=False).head(1).values[0][0]\n",
    "        ax.annotate(label, (elec_post_aug.index[i], running_avg_biden[i]), color='blue')\n",
    "        \n",
    "for i in range(len(elec_post_aug)):\n",
    "    if i in noteable_date_trump:\n",
    "        day = get_day_tfidf(score_df_trump, score_df_trump.index[i])\n",
    "        label = day.sort_values(\"TFIDF\", ascending = False).iloc[0][\"words\"]\n",
    "        \n",
    "        #label = get_day_dataframe(l_t[i], df_t.date[i]).sort_values(by='nums_'+df_t.date[i],ascending=False).head(1).values[0][0]\n",
    "        ax.annotate(label, (elec_post_aug.index[i], running_avg_trump[i]), color = 'darkred')\n",
    "\n",
    "plt.savefig('../output/approval_words_ra.png', bbox_inches = 'tight')\n",
    "plt.show()"
   ]
  },
  {
   "cell_type": "code",
   "execution_count": null,
   "metadata": {},
   "outputs": [],
   "source": []
  }
 ],
 "metadata": {
  "kernelspec": {
   "display_name": "Python 3",
   "language": "python",
   "name": "python3"
  },
  "language_info": {
   "codemirror_mode": {
    "name": "ipython",
    "version": 3
   },
   "file_extension": ".py",
   "mimetype": "text/x-python",
   "name": "python",
   "nbconvert_exporter": "python",
   "pygments_lexer": "ipython3",
   "version": "3.8.3"
  }
 },
 "nbformat": 4,
 "nbformat_minor": 4
}
